{
 "cells": [
  {
   "cell_type": "markdown",
   "metadata": {},
   "source": [
    "### Step 1: What is Two-Way ANOVA, and Why Are We Using It?\n",
    "The Two-Way ANOVA (Analysis of Variance) allows us to test the influence of two independent variables on one numerical dependent variable. In simpler terms:\n",
    "\n",
    "We’re interested in whether loan purpose (e.g., debt consolidation, credit card refinancing) and FICO score categories (low, medium, high) impact the interest rates borrowers are charged.\n",
    "It also lets us explore whether there’s an interaction effect between the two independent variables. For example:\n",
    "\n",
    "Does the effect of loan purpose on interest rates depend on the borrower’s FICO score?"
   ]
  },
  {
   "cell_type": "markdown",
   "metadata": {},
   "source": [
    "### Step 2: Setting Up Hypotheses\n",
    "Before we start, we need to define our hypotheses:\n",
    "\n",
    "Main Effect 1 — Loan Purpose: Do different loan purposes lead to different interest rates?\n",
    "Main Effect 2 — FICO Categories: Do different FICO score categories lead to different interest rates?\n",
    "Interaction Effect: Does the relationship between loan purpose and interest rates depend on FICO score categories?"
   ]
  },
  {
   "cell_type": "markdown",
   "metadata": {},
   "source": [
    "### Step 3: Understanding the Mathematical Formulas Behind Two-Way ANOVA\n",
    "Here’s what the test will do:\n",
    "\n",
    "The F-statistic is still the main component, and we calculate three different F-statistics:\n",
    "\n",
    "F-statistic for Loan Purpose (Main Effect 1)\n",
    "\n",
    "F-statistic for FICO Category (Main Effect 2)\n",
    "\n",
    "F-statistic for Interaction Effect (Loan Purpose x FICO Category)\n",
    "\n",
    "But this time, we have:\n",
    "\n",
    "Variation Between Groups for both loan purpose and FICO category.\n",
    "An additional term for the interaction between the two variables."
   ]
  },
  {
   "cell_type": "markdown",
   "metadata": {},
   "source": []
  },
  {
   "cell_type": "markdown",
   "metadata": {},
   "source": [
    "### Step 4: Preparing the Data — Let’s Categorize FICO Scores"
   ]
  },
  {
   "cell_type": "code",
   "execution_count": 1,
   "metadata": {},
   "outputs": [
    {
     "data": {
      "text/html": [
       "<div>\n",
       "<style scoped>\n",
       "    .dataframe tbody tr th:only-of-type {\n",
       "        vertical-align: middle;\n",
       "    }\n",
       "\n",
       "    .dataframe tbody tr th {\n",
       "        vertical-align: top;\n",
       "    }\n",
       "\n",
       "    .dataframe thead th {\n",
       "        text-align: right;\n",
       "    }\n",
       "</style>\n",
       "<table border=\"1\" class=\"dataframe\">\n",
       "  <thead>\n",
       "    <tr style=\"text-align: right;\">\n",
       "      <th></th>\n",
       "      <th>credit.policy</th>\n",
       "      <th>purpose</th>\n",
       "      <th>int.rate</th>\n",
       "      <th>installment</th>\n",
       "      <th>log.annual.inc</th>\n",
       "      <th>dti</th>\n",
       "      <th>fico</th>\n",
       "      <th>days.with.cr.line</th>\n",
       "      <th>revol.bal</th>\n",
       "      <th>revol.util</th>\n",
       "      <th>inq.last.6mths</th>\n",
       "      <th>delinq.2yrs</th>\n",
       "      <th>pub.rec</th>\n",
       "      <th>not.fully.paid</th>\n",
       "    </tr>\n",
       "  </thead>\n",
       "  <tbody>\n",
       "    <tr>\n",
       "      <th>0</th>\n",
       "      <td>1</td>\n",
       "      <td>debt_consolidation</td>\n",
       "      <td>0.1189</td>\n",
       "      <td>829.10</td>\n",
       "      <td>11.350407</td>\n",
       "      <td>19.48</td>\n",
       "      <td>737</td>\n",
       "      <td>5639.958333</td>\n",
       "      <td>28854</td>\n",
       "      <td>52.1</td>\n",
       "      <td>0.0</td>\n",
       "      <td>0.0</td>\n",
       "      <td>0.0</td>\n",
       "      <td>0</td>\n",
       "    </tr>\n",
       "    <tr>\n",
       "      <th>1</th>\n",
       "      <td>1</td>\n",
       "      <td>credit_card</td>\n",
       "      <td>0.1071</td>\n",
       "      <td>228.22</td>\n",
       "      <td>11.082143</td>\n",
       "      <td>14.29</td>\n",
       "      <td>707</td>\n",
       "      <td>2760.000000</td>\n",
       "      <td>33623</td>\n",
       "      <td>76.7</td>\n",
       "      <td>0.0</td>\n",
       "      <td>0.0</td>\n",
       "      <td>0.0</td>\n",
       "      <td>0</td>\n",
       "    </tr>\n",
       "    <tr>\n",
       "      <th>2</th>\n",
       "      <td>1</td>\n",
       "      <td>debt_consolidation</td>\n",
       "      <td>0.1357</td>\n",
       "      <td>366.86</td>\n",
       "      <td>10.373491</td>\n",
       "      <td>11.63</td>\n",
       "      <td>682</td>\n",
       "      <td>4710.000000</td>\n",
       "      <td>3511</td>\n",
       "      <td>25.6</td>\n",
       "      <td>1.0</td>\n",
       "      <td>0.0</td>\n",
       "      <td>0.0</td>\n",
       "      <td>0</td>\n",
       "    </tr>\n",
       "    <tr>\n",
       "      <th>3</th>\n",
       "      <td>1</td>\n",
       "      <td>debt_consolidation</td>\n",
       "      <td>0.1008</td>\n",
       "      <td>162.34</td>\n",
       "      <td>11.350407</td>\n",
       "      <td>8.10</td>\n",
       "      <td>712</td>\n",
       "      <td>2699.958333</td>\n",
       "      <td>33667</td>\n",
       "      <td>73.2</td>\n",
       "      <td>1.0</td>\n",
       "      <td>0.0</td>\n",
       "      <td>0.0</td>\n",
       "      <td>0</td>\n",
       "    </tr>\n",
       "    <tr>\n",
       "      <th>4</th>\n",
       "      <td>1</td>\n",
       "      <td>credit_card</td>\n",
       "      <td>0.1426</td>\n",
       "      <td>102.92</td>\n",
       "      <td>11.299732</td>\n",
       "      <td>14.97</td>\n",
       "      <td>667</td>\n",
       "      <td>4066.000000</td>\n",
       "      <td>4740</td>\n",
       "      <td>39.5</td>\n",
       "      <td>0.0</td>\n",
       "      <td>1.0</td>\n",
       "      <td>0.0</td>\n",
       "      <td>0</td>\n",
       "    </tr>\n",
       "  </tbody>\n",
       "</table>\n",
       "</div>"
      ],
      "text/plain": [
       "   credit.policy             purpose  int.rate  installment  log.annual.inc  \\\n",
       "0              1  debt_consolidation    0.1189       829.10       11.350407   \n",
       "1              1         credit_card    0.1071       228.22       11.082143   \n",
       "2              1  debt_consolidation    0.1357       366.86       10.373491   \n",
       "3              1  debt_consolidation    0.1008       162.34       11.350407   \n",
       "4              1         credit_card    0.1426       102.92       11.299732   \n",
       "\n",
       "     dti  fico  days.with.cr.line  revol.bal  revol.util  inq.last.6mths  \\\n",
       "0  19.48   737        5639.958333      28854        52.1             0.0   \n",
       "1  14.29   707        2760.000000      33623        76.7             0.0   \n",
       "2  11.63   682        4710.000000       3511        25.6             1.0   \n",
       "3   8.10   712        2699.958333      33667        73.2             1.0   \n",
       "4  14.97   667        4066.000000       4740        39.5             0.0   \n",
       "\n",
       "   delinq.2yrs  pub.rec  not.fully.paid  \n",
       "0          0.0      0.0               0  \n",
       "1          0.0      0.0               0  \n",
       "2          0.0      0.0               0  \n",
       "3          0.0      0.0               0  \n",
       "4          1.0      0.0               0  "
      ]
     },
     "execution_count": 1,
     "metadata": {},
     "output_type": "execute_result"
    }
   ],
   "source": [
    "import pandas as pd\n",
    "import numpy as np\n",
    "import statsmodels.api as sm\n",
    "import statsmodels.formula.api as smf\n",
    "\n",
    "df = pd.read_csv(\"Data/loansdata.csv\")\n",
    "df.head()"
   ]
  },
  {
   "cell_type": "markdown",
   "metadata": {},
   "source": [
    "#### Dataset\n",
    "\n",
    "The original data used in this exercise comes from publicly available data from LendingClub.com, a website that connects borrowers and investors over the Internet.\n",
    "\n",
    "You can download the data here.\n",
    "\n",
    "Our dataset contains several useful columns, but for this analysis, we’ll focus on three key columns — purpose , int.rateand fico— as discussed above.\n",
    "\n",
    "Now, move to converting the fico variable into bins, for which we look at the descriptive statistics of the variable."
   ]
  },
  {
   "cell_type": "code",
   "execution_count": 2,
   "metadata": {},
   "outputs": [
    {
     "data": {
      "text/plain": [
       "count    9578.000000\n",
       "mean      710.846314\n",
       "std        37.970537\n",
       "min       612.000000\n",
       "25%       682.000000\n",
       "50%       707.000000\n",
       "75%       737.000000\n",
       "max       827.000000\n",
       "Name: fico, dtype: float64"
      ]
     },
     "execution_count": 2,
     "metadata": {},
     "output_type": "execute_result"
    }
   ],
   "source": [
    "df['fico'].describe()"
   ]
  },
  {
   "cell_type": "markdown",
   "metadata": {},
   "source": [
    "The summary statistics gives us the clue that we will be good if we keep it in three categories, one below the first quartile (682), one above the third quartile (737), and everything else in the middle ( between 682 and 737).\n",
    "\n",
    "With this logic, I create the bins for the fico variable with the code below. We also renamed the int.rate variable to interest_rate just to make it more intuitive."
   ]
  },
  {
   "cell_type": "code",
   "execution_count": 3,
   "metadata": {},
   "outputs": [
    {
     "data": {
      "text/plain": [
       "Index(['credit.policy', 'purpose', 'interest_rate', 'installment',\n",
       "       'log.annual.inc', 'dti', 'fico', 'days.with.cr.line', 'revol.bal',\n",
       "       'revol.util', 'inq.last.6mths', 'delinq.2yrs', 'pub.rec',\n",
       "       'not.fully.paid', 'fico_category'],\n",
       "      dtype='object')"
      ]
     },
     "execution_count": 3,
     "metadata": {},
     "output_type": "execute_result"
    }
   ],
   "source": [
    "# Define FICO categories (low, medium, high)\n",
    "bins = [0, 682, 737, 850]\n",
    "labels = ['Low', 'Medium', 'High']\n",
    "\n",
    "df['fico_category'] = pd.cut(df['fico'], bins=bins, labels=labels)\n",
    "df = df.rename(columns={'int.rate': 'interest_rate'})\n",
    "\n",
    "df.columns"
   ]
  },
  {
   "cell_type": "markdown",
   "metadata": {},
   "source": [
    "Now, we have two categorical variables: `purpose` and `fico_category`. The dependent variable is the `interest_rate`.\n",
    "\n",
    "The next step is to conduct the test."
   ]
  },
  {
   "cell_type": "markdown",
   "metadata": {},
   "source": [
    "### Step 5: Conduct Two-Way ANOVA test"
   ]
  },
  {
   "cell_type": "code",
   "execution_count": 4,
   "metadata": {},
   "outputs": [
    {
     "name": "stdout",
     "output_type": "stream",
     "text": [
      "                               sum_sq      df            F         PR(>F)\n",
      "C(purpose)                   0.308255     6.0   141.433113  2.181413e-172\n",
      "C(fico_category)             3.064188     2.0  4217.715117   0.000000e+00\n",
      "C(purpose):C(fico_category)  0.015928    12.0     3.654104   1.670027e-05\n",
      "Residual                     3.471601  9557.0          NaN            NaN\n"
     ]
    }
   ],
   "source": [
    "# Define the formula for Two-Way ANOVA\n",
    "formula = 'interest_rate ~ C(purpose) + C(fico_category) + C(purpose):C(fico_category)'\n",
    "\n",
    "# Fit the model\n",
    "model = smf.ols(formula, data=df).fit()\n",
    "\n",
    "# Perform Two-Way ANOVA\n",
    "anova_table = sm.stats.anova_lm(model, typ=2)\n",
    "\n",
    "# Display the results\n",
    "print(anova_table)"
   ]
  },
  {
   "cell_type": "markdown",
   "metadata": {},
   "source": [
    "### Step 6: Interpreting the Results\n",
    "\n",
    "After running the above code, we got an ANOVA table with three important sections, as shown in the above output:"
   ]
  },
  {
   "attachments": {
    "image.png": {
     "image/png": "[encoded data removed]"
    }
   },
   "cell_type": "markdown",
   "metadata": {},
   "source": [
    "![image.png](attachment:image.png)"
   ]
  },
  {
   "cell_type": "markdown",
   "metadata": {},
   "source": [
    "1. C(purpose) (Main Effect of Loan Purpose)\n",
    "sum_sq: This is the amount of variation in interest rates that can be explained by loan purpose.\n",
    "df (degrees of freedom): There are 6 degrees of freedom for loan purpose (indicating 7 loan purpose categories).\n",
    "F (F-statistic): The F-statistic (141.43) is a ratio of the variance between the loan purposes to the variance within the loan purposes. A larger F-statistic indicates a more significant effect.\n",
    "PR(>F) (p-value): The p-value here is 2.18e-172, which is extremely small (essentially zero). This means that we reject the null hypothesis and conclude that loan purpose significantly affects interest rates.\n",
    "\n",
    "2. C(fico_category) (Main Effect of FICO Category)\n",
    "sum_sq: This is the amount of variation in interest rates that can be explained by FICO score category.\n",
    "df: There are 2 degrees of freedom for FICO categories (indicating 3 categories: low, medium, and high).\n",
    "F (F-statistic): The F-statistic for FICO categories is an enormous 4217.71, meaning that the variation in interest rates due to FICO scores is quite substantial.\n",
    "PR(>F) (p-value): The p-value is 0.00 (rounded), which means we reject the null hypothesis. This indicates that FICO category has a very significant effect on interest rates.\n",
    "\n",
    "3. C(purpose)(fico_category) (Interaction Effect)\n",
    "sum_sq: This is the variation in interest rates that can be explained by the interaction between loan purpose and FICO score categories.\n",
    "df: There are 12 degrees of freedom for the interaction.\n",
    "F (F-statistic): The F-statistic here is 3.65, indicating that the interaction between loan purpose and FICO category is also important.\n",
    "PR(>F) (p-value): The p-value for the interaction is 1.67e-05, which is very small (less than 0.05), so we reject the null hypothesis for the interaction effect as well. This means that the effect of loan purpose on interest rates depends on the FICO score category.\n",
    "\n",
    "4. Residual\n",
    "The Residual sum of squares represents the variation in interest rates that is unexplained by the model (i.e., the “noise” or random variation).\n",
    "\n",
    "##### Interpretation in Simple Terms:\n",
    "Loan Purpose Matters: \n",
    "The loan purpose has a significant impact on the interest rate. Borrowers applying for different loan purposes (e.g., debt consolidation vs. home improvement) are likely to receive different interest rates.\n",
    "\n",
    "FICO Score Matters Even More: \n",
    "The FICO score category has an even bigger impact on the interest rate. Borrowers with higher FICO scores (better credit) tend to get lower interest rates, while those with lower FICO scores are charged higher rates.\n",
    "\n",
    "There’s an Interaction Effect: \n",
    "The relationship between loan purpose and interest rate isn’t the same for all FICO categories. For example, a borrower with a low FICO score applying for a credit card loan might get a much higher rate than someone with a high FICO score applying for the same loan.\n",
    "\n",
    "Step 7. Real-World Conclusion:\n",
    "\n",
    "Financial institutions adjust interest rates based on both loan purpose and credit score.\n",
    "The interaction effect tells us that the impact of the loan purpose on the interest rate is not the same across different credit scores. This means lenders might be more cautious (with higher rates) for some loan purposes when the borrower has a lower FICO score."
   ]
  },
  {
   "cell_type": "code",
   "execution_count": null,
   "metadata": {},
   "outputs": [],
   "source": []
  }
 ],
 "metadata": {
  "kernelspec": {
   "display_name": "islp",
   "language": "python",
   "name": "python3"
  },
  "language_info": {
   "codemirror_mode": {
    "name": "ipython",
    "version": 3
   },
   "file_extension": ".py",
   "mimetype": "text/x-python",
   "name": "python",
   "nbconvert_exporter": "python",
   "pygments_lexer": "ipython3",
   "version": "3.13.2"
  }
 },
 "nbformat": 4,
 "nbformat_minor": 2
}
